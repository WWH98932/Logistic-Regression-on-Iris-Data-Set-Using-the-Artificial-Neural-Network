{
 "cells": [
  {
   "cell_type": "code",
   "execution_count": 2,
   "metadata": {},
   "outputs": [
    {
     "name": "stdout",
     "output_type": "stream",
     "text": [
      "Jcost = 0.6636268397341353\n",
      "b2 = -0.0007890084545026725\n",
      "W2 =  [[ 0.08056186 -0.24098445  1.          1.        ]]\n"
     ]
    }
   ],
   "source": [
    "import numpy as np\n",
    "\n",
    "# Define activation functions\n",
    "# f1, f2\n",
    "def identity(yhat):\n",
    "    return yhat\n",
    "# f3\n",
    "def activation(yhat):\n",
    "    return 1 / (1 + np.exp(-yhat))\n",
    "\n",
    "# Compute cost function\n",
    "h = 100000\n",
    "alpha = 0.05\n",
    "J = np.zeros([1, h])\n",
    "\n",
    "data = np.loadtxt(\"pattern_rand.csv\", delimiter=\",\", skiprows=1)\n",
    "X_train = data[0:320, 0:2].T\n",
    "X_test = data[320:, 0:2].T\n",
    "Y_train = data[0:320, 2:].T\n",
    "Y_test = data[320:, 2:].T\n",
    "\n",
    "# Train set\n",
    "X0 = X_train\n",
    "Y = Y_train\n",
    "# Initialization\n",
    "n = 2\n",
    "m = X0.shape[1]\n",
    "G0 = np.zeros([n, m])\n",
    "G1 = np.zeros([4, m])\n",
    "G2 = np.zeros([1, m])\n",
    "dGdw = np.zeros([1, m])\n",
    "dJdw = np.zeros([1, n])\n",
    "dJdb = 0\n",
    "# Model Parameters\n",
    "b0 = 0\n",
    "b1 = 0\n",
    "b2 = 1\n",
    "W0 = np.eye(2)\n",
    "W1_1 = np.eye(2)\n",
    "W1_2 = np.zeros([2, 2])\n",
    "W1 = np.vstack([W1_1, W1_2])\n",
    "W2 = np.full([1, 4], 1)\n",
    "# Initialization of X, H, B and Yhat\n",
    "H0 = np.zeros([n, m])\n",
    "H1 = np.zeros([4, m])\n",
    "H2 = np.zeros([1, m])\n",
    "X1 = np.zeros([n, m])\n",
    "X2 = np.zeros([4, m])\n",
    "Yhat = np.zeros([1, m])\n",
    "B0 = np.ones([n, 1])\n",
    "B1 = np.ones([4, 1])\n",
    "B2 = np.ones([1, 1])\n",
    "\n",
    "# Loop\n",
    "for g in range(h):\n",
    "    # layer 0\n",
    "    G0 = np.dot(W0, X0) + b0 * B0\n",
    "    H0 = identity(G0)\n",
    "    # layer 1\n",
    "    X1 = H0\n",
    "    G1 = np.dot(W1, X1) + b1 * B1\n",
    "    H1 = identity(G1)\n",
    "    # layer 2\n",
    "    X2 = H1\n",
    "    G2 = np.dot(W2, X2) + b2 * B2\n",
    "    H2 = activation(G2)\n",
    "    # Cost function\n",
    "    Yhat = H2\n",
    "    J[0, g] = (-1 / m) * np.sum((Y * np.log(Yhat)) + (1 - Y) * np.log(1 - Yhat))\n",
    "    # Update\n",
    "    dGdw = Y - Yhat\n",
    "    dJdb = (-1 / m) * np.sum(dGdw)\n",
    "    dJdw = (-1 / m) * np.dot(dGdw, X2.T)\n",
    "    b2 = b2 - alpha * dJdb\n",
    "    W2 = W2 - alpha * dJdw\n",
    "    for i in range(m):\n",
    "        if Yhat[0, i] > 0.5:\n",
    "            Yhat[0, i] = 1\n",
    "        else:\n",
    "            Yhat[0, i] = 0\n",
    "        \n",
    "print(\"Jcost = {}\".format(J[0, h-1]))\n",
    "print(\"b2 = {}\".format(b2))\n",
    "print(\"W2 = \", W2)"
   ]
  },
  {
   "cell_type": "code",
   "execution_count": 3,
   "metadata": {},
   "outputs": [
    {
     "name": "stdout",
     "output_type": "stream",
     "text": [
      "The accuracy of Train set is 0.578125\n"
     ]
    }
   ],
   "source": [
    "a = 0\n",
    "for i in range(m):\n",
    "    if Yhat[0, i] == Y_train[0, i]:\n",
    "        a += 1\n",
    "print(\"The accuracy of Train set is {}\".format(a / m))"
   ]
  },
  {
   "cell_type": "code",
   "execution_count": 6,
   "metadata": {},
   "outputs": [
    {
     "name": "stdout",
     "output_type": "stream",
     "text": [
      "Jcost = 0.7189345163545805\n",
      "b2 = -0.0007890084545026725\n",
      "W2 =  [0.08056186, -0.24098445, 1, 1]\n"
     ]
    }
   ],
   "source": [
    "# Test set\n",
    "X0 = X_test\n",
    "Y = Y_test\n",
    "\n",
    "# Loop\n",
    "for g in range(h):\n",
    "    # layer 0\n",
    "    G0 = np.dot(W0, X0) + b0 * B0\n",
    "    H0 = identity(G0)\n",
    "    # layer 1\n",
    "    X1 = H0\n",
    "    G1 = np.dot(W1, X1) + b1 * B1\n",
    "    H1 = identity(G1)\n",
    "    # layer 2\n",
    "    X2 = H1\n",
    "    G2 = np.dot(W2, X2) + b2 * B2\n",
    "    H2 = activation(G2)\n",
    "    # Cost function\n",
    "    Yhat = H2\n",
    "    J[0, g] = (-1 / m) * np.sum((Y * np.log(Yhat)) + (1 - Y) * np.log(1 - Yhat))\n",
    "    # Update\n",
    "    dGdw = Y - Yhat\n",
    "    dJdb = (-1 / m) * np.sum(dGdw)\n",
    "    dJdw = (-1 / m) * np.dot(dGdw, X2.T)\n",
    "    b2 = -0.0007890084545026725\n",
    "    W2 = [0.08056186, -0.24098445, 1, 1]\n",
    "    for i in range(m):\n",
    "        if Yhat[0, i] > 0.5:\n",
    "            Yhat[0, i] = 1\n",
    "        else:\n",
    "            Yhat[0, i] = 0\n",
    "        \n",
    "print(\"Jcost = {}\".format(J[0, h-1]))\n",
    "print(\"b2 = {}\".format(b2))\n",
    "print(\"W2 = \", W2)"
   ]
  },
  {
   "cell_type": "code",
   "execution_count": 7,
   "metadata": {},
   "outputs": [
    {
     "name": "stdout",
     "output_type": "stream",
     "text": [
      "The accuracy of Test set is 0.45\n"
     ]
    }
   ],
   "source": [
    "a = 0\n",
    "for i in range(m):\n",
    "    if Yhat[0, i] == Y_test[0, i]:\n",
    "        a += 1\n",
    "print(\"The accuracy of Test set is {}\".format(a / m))"
   ]
  }
 ],
 "metadata": {
  "kernelspec": {
   "display_name": "Python 3",
   "language": "python",
   "name": "python3"
  },
  "language_info": {
   "codemirror_mode": {
    "name": "ipython",
    "version": 3
   },
   "file_extension": ".py",
   "mimetype": "text/x-python",
   "name": "python",
   "nbconvert_exporter": "python",
   "pygments_lexer": "ipython3",
   "version": "3.6.3"
  }
 },
 "nbformat": 4,
 "nbformat_minor": 2
}
