{
 "cells": [
  {
   "cell_type": "code",
   "execution_count": 57,
   "metadata": {
    "collapsed": true
   },
   "outputs": [],
   "source": [
    "import numpy as np\n",
    "\n",
    "# Define activation functions\n",
    "# f1, f2\n",
    "def identity(yhat):\n",
    "    return yhat\n",
    "# f3\n",
    "def activation(yhat):\n",
    "    return 1 / (1 + np.exp(-yhat))\n",
    "\n",
    "# Compute cost function\n",
    "h = 100000\n",
    "alpha = 0.05\n",
    "J = np.zeros([1, h])\n",
    "\n",
    "def annirislogit(file):\n",
    "    data = np.loadtxt(file, delimiter=\",\", skiprows=1)\n",
    "    X0 = data[:,0:4].T\n",
    "    Y = data[:,4:].T\n",
    "    # Initialization\n",
    "    n = 4\n",
    "    m = X0.shape[1]\n",
    "    G0 = np.zeros([n, m])\n",
    "    G1 = np.zeros([n-1, m])\n",
    "    G2 = np.zeros([1, m])\n",
    "    dGdw = np.zeros([1, m])\n",
    "    dJdw = np.zeros([1, n])\n",
    "    dJdb = 0\n",
    "    # Model Parameters\n",
    "    b0 = 0\n",
    "    b1 = 0\n",
    "    b2 = 1\n",
    "    W0 = np.eye(4)\n",
    "    W1 = np.eye(4)\n",
    "    W2 = np.full([1, 4], 1)\n",
    "    # Initialization of X, H and Yhat\n",
    "    H0 = np.zeros([n, m])\n",
    "    H1 = np.zeros([n, m])\n",
    "    H2 = np.zeros([1, m])\n",
    "    X1 = np.zeros([n, m])\n",
    "    X2 = np.zeros([n, m])\n",
    "    Yhat = np.zeros([1, m])\n",
    "    B0 = np.ones([n, 1])\n",
    "    B1 = np.ones([n, 1])\n",
    "    B2 = np.ones([1, 1])\n",
    "\n",
    "    # Loop\n",
    "    for g in range(h):\n",
    "        # layer 0\n",
    "        G0 = np.dot(W0, X0) + b0 * B0\n",
    "        H0 = identity(G0)\n",
    "        # layer 1\n",
    "        X1 = H0\n",
    "        G1 = np.dot(W1, X1) + b1 * B1\n",
    "        H1 = identity(G1)\n",
    "        # layer 2\n",
    "        X2 = H1\n",
    "        G2 = np.dot(W2, X2) + b2 * B2\n",
    "        H2 = activation(G2)\n",
    "        # Cost function\n",
    "        Yhat = H2\n",
    "        J[0, g] = (-1 / m) * np.sum((Y * np.log(Yhat)) + (1 - Y) * np.log(1 - Yhat))\n",
    "        # Update\n",
    "        dGdw = Y - Yhat\n",
    "        dJdb = (-1 / m) * np.sum(dGdw)\n",
    "        dJdw = (-1 / m) * np.dot(dGdw, X2.T)\n",
    "        b2 = b2 - alpha * dJdb\n",
    "        W2 = W2 - alpha * dJdw\n",
    "        \n",
    "    print(\"Jcost = {}\".format(J[0, h-1]))\n",
    "    print(\"b2 = {}\".format(b2))\n",
    "    print(\"W2 = \", W2)"
   ]
  },
  {
   "cell_type": "code",
   "execution_count": 58,
   "metadata": {},
   "outputs": [
    {
     "name": "stdout",
     "output_type": "stream",
     "text": [
      "Jcost = 0.00023010959719113437\n",
      "b2 = 0.0893937362445273\n",
      "W2 =  [[-1.37203655 -3.55865762  5.82179189  3.3445902 ]]\n",
      "Jcost = 0.00014143460554265697\n",
      "b2 = 0.08493814143709527\n",
      "W2 =  [[-1.5575962  -3.09156747  5.47374584  3.04684905]]\n"
     ]
    }
   ],
   "source": [
    "annirislogit(\"iristrain-1.csv\")\n",
    "annirislogit(\"iristest-1.csv\")"
   ]
  },
  {
   "cell_type": "code",
   "execution_count": null,
   "metadata": {
    "collapsed": true
   },
   "outputs": [],
   "source": []
  }
 ],
 "metadata": {
  "kernelspec": {
   "display_name": "Python 3",
   "language": "python",
   "name": "python3"
  },
  "language_info": {
   "codemirror_mode": {
    "name": "ipython",
    "version": 3
   },
   "file_extension": ".py",
   "mimetype": "text/x-python",
   "name": "python",
   "nbconvert_exporter": "python",
   "pygments_lexer": "ipython3",
   "version": "3.6.3"
  }
 },
 "nbformat": 4,
 "nbformat_minor": 2
}
